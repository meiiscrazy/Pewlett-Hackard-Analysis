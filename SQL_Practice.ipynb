{
 "cells": [
  {
   "cell_type": "markdown",
   "metadata": {},
   "source": [
    "# SQL Practice"
   ]
  },
  {
   "cell_type": "markdown",
   "metadata": {},
   "source": [
    "```sql\n",
    "CREATE TABLE people (\n",
    "\tfirst_name VARCHAR(30) NOT NULL, \n",
    "\thas_pet BOOLEAN DEFAULT false,\n",
    "\tpet_type VARCHAR(10) NOT NULL,\n",
    "\tpet_name VARCHAR(30),\n",
    "\tpet_age INT\n",
    ");\n",
    "\n",
    "SELECT * FROM people;\n",
    "\n",
    "INSERT INTO people(first_name, has_pet, pet_type, pet_name, pet_age)\n",
    "VALUES ('Drew', true, 'dog', 'Kodie', 16),\n",
    "('Brandon', true, 'dog', 'Chowder', 7);\n",
    "\n",
    "SELECT first_name, pet_name FROM people;\n",
    "\n",
    "SELECT first_name, pet_type, pet_name \n",
    "FROM people\n",
    "WHERE pet_type = 'dog'\n",
    "AND pet_age < 10;\n",
    "```"
   ]
  },
  {
   "cell_type": "code",
   "execution_count": null,
   "metadata": {},
   "outputs": [],
   "source": []
  }
 ],
 "metadata": {
  "kernelspec": {
   "display_name": "Python 3",
   "language": "python",
   "name": "python3"
  },
  "language_info": {
   "codemirror_mode": {
    "name": "ipython",
    "version": 3
   },
   "file_extension": ".py",
   "mimetype": "text/x-python",
   "name": "python",
   "nbconvert_exporter": "python",
   "pygments_lexer": "ipython3",
   "version": "3.7.6"
  }
 },
 "nbformat": 4,
 "nbformat_minor": 4
}
