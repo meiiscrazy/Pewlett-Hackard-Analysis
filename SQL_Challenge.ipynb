{
 "cells": [
  {
   "cell_type": "markdown",
   "metadata": {},
   "source": [
    "# Deliverable 1: Number of Retiring Employees by Title"
   ]
  },
  {
   "cell_type": "markdown",
   "metadata": {},
   "source": [
    "#### 1) Create a table containing the number of employees who are about to retire (those born 1952-1955), grouped by job title\n",
    "##### Create three new tables:\n",
    "    1) showing number of [titles] retiring\n",
    "    2) showing number of employees with each title \n",
    "    3) showing a list of current employees born between Jan. 1, 1952 and Dec. 31, 1955."
   ]
  },
  {
   "cell_type": "markdown",
   "metadata": {},
   "source": [
    "Schema goes here\n",
    "```sql\n",
    "SELECT e.emp_no,\n",
    "\te.first_name,\n",
    "\te.last_name,\n",
    "\tti.title,\n",
    "\tti.from_date,\n",
    "\ts.salary\n",
    "INTO employee_title\n",
    "FROM employees as e\n",
    "INNER JOIN salaries as s\n",
    "ON (e.emp_no = s.emp_no)\n",
    "INNER JOIN titles as ti\n",
    "ON (e.emp_no = ti.emp_no)\n",
    "WHERE (e.birth_date BETWEEN '1952-01-01' AND '1955-12-31');\n",
    "\n",
    "SELECT * FROM employee_title;\n",
    "```"
   ]
  },
  {
   "cell_type": "markdown",
   "metadata": {},
   "source": [
    "#### 2) Query the new table using the SELECT statement | Your table will contain the following information:\n",
    "\n",
    "Employee number, First and last name, Title, from_date, Salary"
   ]
  },
  {
   "cell_type": "markdown",
   "metadata": {},
   "source": [
    "Schema goes here\n",
    "```sql\n",
    "SELECT e.emp_no,\n",
    "\te.first_name,\n",
    "\te.last_name,\n",
    "\tti.title,\n",
    "\tti.from_date,\n",
    "\tti.to_date,\n",
    "\ts.salary\n",
    "INTO employee_title\n",
    "FROM employees as e\n",
    "INNER JOIN salaries as s\n",
    "ON (e.emp_no = s.emp_no)\n",
    "INNER JOIN titles as ti\n",
    "ON (e.emp_no = ti.emp_no)\n",
    "WHERE (e.birth_date BETWEEN '1952-01-01' AND '1955-12-31');\n",
    "\n",
    "SELECT * FROM employee_title;\n",
    "```"
   ]
  },
  {
   "cell_type": "markdown",
   "metadata": {},
   "source": [
    "#### 3) Create a new table that includes only the most recent title of each employee. (Exclude the duplicates)\n",
    "Need to use partitioning and below code to create the table\n",
    "```sql \n",
    "-- Partition the data to show only most recent title per employee\n",
    "SELECT ______,\n",
    " __________,\n",
    " _________,\n",
    " _______,\n",
    " _____\n",
    "INTO nameyourtable\n",
    "FROM\n",
    " (SELECT ______,\n",
    " __________,\n",
    " _________,\n",
    " _______,\n",
    " _____, ROW_NUMBER() OVER\n",
    " (PARTITION BY (emp_no)\n",
    " ORDER BY to_date DESC) rn\n",
    " FROM __________\n",
    " ) tmp WHERE rn = 1\n",
    "ORDER BY emp_no;\n",
    "```"
   ]
  },
  {
   "cell_type": "markdown",
   "metadata": {},
   "source": [
    "Schema goes here\n",
    "```sql\n",
    "-- Partition the data to show only most recent title per employee\n",
    "SELECT emp_no,\n",
    "\tfirst_name,\n",
    "\tlast_name,\n",
    "\ttitle,\n",
    "\tto_date,\n",
    "\tsalary\n",
    "INTO new_retire\n",
    "FROM\n",
    " (SELECT emp_no,\n",
    "\tfirst_name,\n",
    "\tlast_name,\n",
    "\ttitle,\n",
    "  \tto_date,\n",
    "\tsalary, ROW_NUMBER() OVER\n",
    " (PARTITION BY (emp_no)\n",
    " ORDER BY to_date DESC) rn\n",
    " FROM employee_title\n",
    " ) tmp WHERE rn = 1\n",
    "ORDER BY emp_no;\n",
    "\n",
    "SELECT * FROM new_retire;\n",
    "```"
   ]
  },
  {
   "cell_type": "markdown",
   "metadata": {},
   "source": [
    "#### 4) Export the table as csv \n",
    "Retirement-ready employees grouped by title"
   ]
  },
  {
   "cell_type": "markdown",
   "metadata": {},
   "source": [
    "# Deliverable 2: Mentorship Eligibility"
   ]
  },
  {
   "cell_type": "markdown",
   "metadata": {},
   "source": [
    "#### 1) Create a table that includes the following:\n",
    "Employee number, First name, Last name, Title, from_date, and to_date\n",
    "#### Employees will need to have a date of birth that falls between January 1, 1965 and December 31, 1965. \n",
    "Hint: Use two inner joins to create this new table"
   ]
  },
  {
   "cell_type": "markdown",
   "metadata": {},
   "source": [
    "Schema goes here\n",
    "```sql\n",
    "SELECT e.emp_no,\n",
    "\te.first_name,\n",
    "\te.last_name,\n",
    "\tde.dept_no,\n",
    "\tti.title,\n",
    "\tde.from_date,\n",
    "\tde.to_date\n",
    "INTO mentor\n",
    "FROM employees as e\n",
    "INNER JOIN dept_emp as de\n",
    "ON (e.emp_no = de.emp_no)\n",
    "INNER JOIN titles as ti\n",
    "ON (e.emp_no = ti.emp_no)\n",
    "WHERE (de.to_date = '9999-01-01') AND (e.birth_date BETWEEN '1965-01-01' AND '1965-12-31')\n",
    "ORDER BY emp_no;\n",
    "\n",
    "SELECT * FROM mentor;\n",
    "SELECT COUNT (DISTINCT emp_no) FROM mentor;\n",
    "```"
   ]
  },
  {
   "cell_type": "markdown",
   "metadata": {},
   "source": [
    "#### 2) Export the table as csv\n",
    "Employees who are eligible to act as a mentor within the company"
   ]
  },
  {
   "cell_type": "code",
   "execution_count": null,
   "metadata": {},
   "outputs": [],
   "source": []
  }
 ],
 "metadata": {
  "kernelspec": {
   "display_name": "Python 3",
   "language": "python",
   "name": "python3"
  },
  "language_info": {
   "codemirror_mode": {
    "name": "ipython",
    "version": 3
   },
   "file_extension": ".py",
   "mimetype": "text/x-python",
   "name": "python",
   "nbconvert_exporter": "python",
   "pygments_lexer": "ipython3",
   "version": "3.7.6"
  }
 },
 "nbformat": 4,
 "nbformat_minor": 4
}
